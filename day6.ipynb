{
 "cells": [
  {
   "cell_type": "code",
   "execution_count": 2,
   "id": "b3fe76b1-6004-4757-bee0-461a37d1d69c",
   "metadata": {},
   "outputs": [
    {
     "name": "stdout",
     "output_type": "stream",
     "text": [
      "***MY LOGIN SYSTEM***\n",
      "\n"
     ]
    },
    {
     "name": "stdin",
     "output_type": "stream",
     "text": [
      "User Name: Hajera\n",
      "Password: Hajera@12\n"
     ]
    },
    {
     "name": "stdout",
     "output_type": "stream",
     "text": [
      "Welcome Hajera, Hope you are having a lovely morning.\n",
      "  Start you day with a smile and do'nt forget to have coffee.\n"
     ]
    }
   ],
   "source": [
    "print(\"***MY LOGIN SYSTEM***\")\n",
    "print()\n",
    "username = input(\"User Name:\")\n",
    "password = input(\"Password:\")\n",
    "if username == \"Samreen\" and password == \"Abcd.12\":\n",
    "  print(\"\"\"Greetings! Samreen, what a lovely accent you have, you could have charmed your way in there.\n",
    "  Have a great day.\"\"\")\n",
    "elif username == \"Ayesha\" and password == \"Ayesha@12\":\n",
    "  print(\"Good Morning Ayesha, Hope you are doing wel. Have a great day.\")\n",
    "elif username == \"Hajera\" and password == \"Hajera@12\":\n",
    "  print(\"\"\"Welcome Hajera, Hope you are having a lovely morning.\n",
    "  Start you day with a smile and do'nt forget to have coffee.\"\"\")\n",
    "else:\n",
    "  print(\"OOPPSS!! invalid user name or pasword\")"
   ]
  },
  {
   "cell_type": "code",
   "execution_count": null,
   "id": "3f77ba82-21fd-43d6-bf5c-7c7cf1ed245f",
   "metadata": {},
   "outputs": [],
   "source": []
  }
 ],
 "metadata": {
  "kernelspec": {
   "display_name": "Python 3 (ipykernel)",
   "language": "python",
   "name": "python3"
  },
  "language_info": {
   "codemirror_mode": {
    "name": "ipython",
    "version": 3
   },
   "file_extension": ".py",
   "mimetype": "text/x-python",
   "name": "python",
   "nbconvert_exporter": "python",
   "pygments_lexer": "ipython3",
   "version": "3.12.4"
  }
 },
 "nbformat": 4,
 "nbformat_minor": 5
}
